{
 "cells": [
  {
   "cell_type": "markdown",
   "metadata": {},
   "source": [
    "## Anthony J Smith CS-340-R3334 Client/Server Development 24EW3"
   ]
  },
  {
   "cell_type": "code",
   "execution_count": 2,
   "metadata": {},
   "outputs": [],
   "source": [
    "from CRUD_MongoDB import AnimalShelter\n",
    "\n",
    "document = {\n",
    "    'age': '6 years',\n",
    "    'id': 'AJS1765',\n",
    "    'animal_type': 'Dog',\n",
    "    'name': 'Mellon'\n",
    "}\n",
    "\n",
    "shelter = AnimalShelter(username='aacuser', password='snhu1234')"
   ]
  },
  {
   "cell_type": "markdown",
   "metadata": {},
   "source": [
    "## Create Function"
   ]
  },
  {
   "cell_type": "code",
   "execution_count": 3,
   "metadata": {},
   "outputs": [
    {
     "name": "stdout",
     "output_type": "stream",
     "text": [
      "Document Created with id: 65d21fa50f11fc88b04fa030\n"
     ]
    }
   ],
   "source": [
    "try:\n",
    "    create_result = shelter.create(document)\n",
    "    print(f'Document Created with id: {create_result}')\n",
    "except Exception as e:\n",
    "    print(f'Create error occurred: {e}')"
   ]
  },
  {
   "cell_type": "markdown",
   "metadata": {},
   "source": [
    "## Read Function"
   ]
  },
  {
   "cell_type": "code",
   "execution_count": 16,
   "metadata": {},
   "outputs": [
    {
     "name": "stdout",
     "output_type": "stream",
     "text": [
      "[{'_id': ObjectId('65d13ef2cd6597bce81ce9aa'), 'age': '10 years', 'id': 'AJS1765', 'animal_type': 'Dog', 'name': 'Mellon'}, {'_id': ObjectId('65d13f53cd6597bce81ce9ad'), 'age': '6 years', 'id': 'AJS1765', 'animal_type': 'Dog', 'name': 'Mellon'}]\n"
     ]
    }
   ],
   "source": [
    "query = {'name': 'Mellon'}\n",
    "\n",
    "records = shelter.read(query)\n",
    "print(records)"
   ]
  },
  {
   "cell_type": "markdown",
   "metadata": {},
   "source": [
    "## Update Funtion"
   ]
  },
  {
   "cell_type": "code",
   "execution_count": 17,
   "metadata": {},
   "outputs": [
    {
     "name": "stdout",
     "output_type": "stream",
     "text": [
      "Update error occurred: filter must be an instance of dict, bson.son.SON, or any other type that inherits from collections.Mapping\n"
     ]
    }
   ],
   "source": [
    "query = {'name' : 'Mellon'}\n",
    "\n",
    "update_data = {\"\"}\n",
    "\n"
   ]
  },
  {
   "cell_type": "markdown",
   "metadata": {},
   "source": [
    "## Delete Function"
   ]
  },
  {
   "cell_type": "code",
   "execution_count": null,
   "metadata": {},
   "outputs": [],
   "source": [
    "try:\n",
    "    delete_result = shelter.delete(document['id'])\n",
    "    print(f'Document deleted with id: {delete_result}')\n",
    "except Exception as e:\n",
    "    print(f'Delete error occurred: {e}')"
   ]
  }
 ],
 "metadata": {
  "kernelspec": {
   "display_name": "Python 3",
   "language": "python",
   "name": "python3"
  },
  "language_info": {
   "codemirror_mode": {
    "name": "ipython",
    "version": 3
   },
   "file_extension": ".py",
   "mimetype": "text/x-python",
   "name": "python",
   "nbconvert_exporter": "python",
   "pygments_lexer": "ipython3",
   "version": "3.11.5"
  }
 },
 "nbformat": 4,
 "nbformat_minor": 2
}
